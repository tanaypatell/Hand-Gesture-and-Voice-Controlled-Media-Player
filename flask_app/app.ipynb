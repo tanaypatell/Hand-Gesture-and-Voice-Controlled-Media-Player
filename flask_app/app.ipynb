{
 "cells": [
  {
   "cell_type": "code",
   "execution_count": 2,
   "id": "d575fbf4",
   "metadata": {},
   "outputs": [],
   "source": [
    "from flask import Flask, request, render_template, redirect\n",
    "import os\n",
    "\n",
    "from flask.helpers import url_for"
   ]
  },
  {
   "cell_type": "code",
   "execution_count": 3,
   "id": "44df6b02",
   "metadata": {},
   "outputs": [],
   "source": [
    "app = Flask(__name__)"
   ]
  },
  {
   "cell_type": "code",
   "execution_count": 4,
   "id": "76072345",
   "metadata": {},
   "outputs": [],
   "source": [
    "@app.route(\"/\")\n",
    "@app.route(\"/home\", methods=[\"GET\", \"POST\"])\n",
    "def home():\n",
    "    return render_template(\"index.html\")"
   ]
  },
  {
   "cell_type": "code",
   "execution_count": 5,
   "id": "4597dfd7",
   "metadata": {},
   "outputs": [],
   "source": [
    "@app.route(\"/mediaList\", methods=[\"GET\", \"POST\"])\n",
    "def media_player():\n",
    "    return render_template(\"mediaList.html\")"
   ]
  },
  {
   "cell_type": "code",
   "execution_count": 6,
   "id": "7e007984",
   "metadata": {},
   "outputs": [],
   "source": [
    "@app.route(\"/hand_gesture\", methods=[\"GET\"])\n",
    "def hand_gesture():\n",
    "    if request.method == \"GET\":\n",
    "        path_list = (os.path.dirname(__file__)).split(\"\\\\\")\n",
    "        print(path_list)\n",
    "        if path_list[-1] == \"flask_app\":\n",
    "            path_list.pop(-1)\n",
    "            print(path_list)    \n",
    "        final_path = \"\\\\\".join(path_list)\n",
    "        print(final_path)\n",
    "        os.chdir(final_path+\"\\\\Hand_gesture\")\n",
    "        print(os.getcwd())\n",
    "        print(\"################ Directory Changed ################\")\n",
    "        os.system(\"python Hand_Gesture.ipynb\")\n",
    "        \n",
    "        return redirect(url_for('home'))"
   ]
  },
  {
   "cell_type": "code",
   "execution_count": 7,
   "id": "998ad9c5",
   "metadata": {},
   "outputs": [
    {
     "name": "stdout",
     "output_type": "stream",
     "text": [
      " * Serving Flask app \"__main__\" (lazy loading)\n",
      " * Environment: production\n",
      "   WARNING: This is a development server. Do not use it in a production deployment.\n",
      "   Use a production WSGI server instead.\n",
      " * Debug mode: off\n"
     ]
    },
    {
     "name": "stderr",
     "output_type": "stream",
     "text": [
      " * Running on http://127.0.0.1:5000/ (Press CTRL+C to quit)\n",
      "127.0.0.1 - - [06/Nov/2021 20:38:09] \"\u001b[37mGET / HTTP/1.1\u001b[0m\" 200 -\n",
      "127.0.0.1 - - [06/Nov/2021 20:38:14] \"\u001b[33mGET /mediaList.html HTTP/1.1\u001b[0m\" 404 -\n"
     ]
    }
   ],
   "source": [
    "if __name__ == \"__main__\":\n",
    "    app.debug = False\n",
    "    app.run()"
   ]
  },
  {
   "cell_type": "code",
   "execution_count": null,
   "id": "1b92a3d2",
   "metadata": {},
   "outputs": [],
   "source": []
  }
 ],
 "metadata": {
  "kernelspec": {
   "display_name": "Python 3",
   "language": "python",
   "name": "python3"
  },
  "language_info": {
   "codemirror_mode": {
    "name": "ipython",
    "version": 3
   },
   "file_extension": ".py",
   "mimetype": "text/x-python",
   "name": "python",
   "nbconvert_exporter": "python",
   "pygments_lexer": "ipython3",
   "version": "3.8.8"
  }
 },
 "nbformat": 4,
 "nbformat_minor": 5
}
